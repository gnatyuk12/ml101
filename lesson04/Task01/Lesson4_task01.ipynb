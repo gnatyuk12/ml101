{
  "nbformat": 4,
  "nbformat_minor": 0,
  "metadata": {
    "colab": {
      "name": "Lesson4_task01.ipynb",
      "provenance": []
    },
    "kernelspec": {
      "name": "python3",
      "display_name": "Python 3"
    }
  },
  "cells": [
    {
      "cell_type": "code",
      "metadata": {
        "id": "BKg3Cy3vCa2q",
        "colab_type": "code",
        "colab": {}
      },
      "source": [
        "import numpy as np\n",
        "import cv2 as cv # OpenCV library\n",
        "from google.colab.patches import cv2_imshow # colab-specific function \n",
        "\n",
        "caps = cv.imread('cap.png')\n",
        "hsv = cv.cvtColor(caps, cv.COLOR_BGR2HSV)\n",
        "\n",
        "lower_blue = np.array([0, 30, 30])\n",
        "upper_blue = np.array([5, 255, 255])\n",
        "\n",
        "# Threshold the HSV image to get only blue colors\n",
        "mask = cv.inRange(hsv, lower_blue, upper_blue)\n",
        "\n",
        "# Bitwise-AND mask and original image\n",
        "blue_cap = cv.bitwise_and(caps, caps, mask = mask)\n",
        "cv2_imshow(caps)\n",
        "cv2_imshow(mask)\n",
        "cv2_imshow(blue_cap)"
      ],
      "execution_count": 0,
      "outputs": []
    }
  ]
}